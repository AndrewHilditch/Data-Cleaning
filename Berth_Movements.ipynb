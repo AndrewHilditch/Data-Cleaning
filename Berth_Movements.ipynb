{
 "cells": [
  {
   "cell_type": "code",
   "execution_count": 1,
   "metadata": {},
   "outputs": [
    {
     "data": {
      "text/plain": [
       "311067-element Array{String,1}:\n",
       " \"1497265223312\\$<CA_MSG>ESCA138513871G29115958</CA_MSG>\\r\\n\"\n",
       " \"1497265223328\\$<SF_MSG>CCSFBB00115958</SF_MSG>\\r\\n\"        \n",
       " \"1497265223374\\$<SF_MSG>G2SF91F7115959</SF_MSG>\\r\\n\"        \n",
       " \"1497265223374\\$<SF_MSG>SSSF3108115959</SF_MSG>\\r\\n\"        \n",
       " \"1497265223390\\$<SF_MSG>LCSF157F115959</SF_MSG>\\r\\n\"        \n",
       " \"1497265223390\\$<SF_MSG>CASF8A04115959</SF_MSG>\\r\\n\"        \n",
       " \"1497265223406\\$<CA_MSG>BNCA042300359S60115959</CA_MSG>\\r\\n\"\n",
       " \"1497265223406\\$<CA_MSG>BECAE114E1121W12115959</CA_MSG>\\r\\n\"\n",
       " \"1497265223421\\$<SF_MSG>T2SF5979115959</SF_MSG>\\r\\n\"        \n",
       " \"1497265223437\\$<CA_MSG>Q1CA041604081Y37115959</CA_MSG>\\r\\n\"\n",
       " \"1497265223437\\$<SF_MSG>LBSF02B8115959</SF_MSG>\\r\\n\"        \n",
       " \"1497265223453\\$<SF_MSG>WISF6784115959</SF_MSG>\\r\\n\"        \n",
       " \"1497265223453\\$<SF_MSG>G1SF6640115959</SF_MSG>\\r\\n\"        \n",
       " ⋮                                                           \n",
       " \"1497268800051\\$<CA_MSG>MDCA42194221****125959</CA_MSG>\\r\\n\"\n",
       " \"1497268800051\\$<SF_MSG>X1SF2AE7125959</SF_MSG>\\r\\n\"        \n",
       " \"1497268800067\\$<CA_MSG>R2CA656565672G45125959</CA_MSG>\\r\\n\"\n",
       " \"1497268800067\\$<SF_MSG>LRSF1FA0125959</SF_MSG>\\r\\n\"        \n",
       " \"1497268800082\\$<CA_MSG>Y3CA389739072H40125959</CA_MSG>\\r\\n\"\n",
       " \"1497268800082\\$<SF_MSG>WISF7E00125959</SF_MSG>\\r\\n\"        \n",
       " \"1497268800098\\$<SF_MSG>Y2SF3700125959</SF_MSG>\\r\\n\"        \n",
       " \"1497268800098\\$<SF_MSG>TBSF724A125959</SF_MSG>\\r\\n\"        \n",
       " \"1497268800114\\$<SF_MSG>R1SF989E125959</SF_MSG>\\r\\n\"        \n",
       " \"1497268800114\\$<CA_MSG>EHCA015501571O84125959</CA_MSG>\\r\\n\"\n",
       " \"1497268800129\\$<SF_MSG>NKSF47F0125959</SF_MSG>\\r\\n\"        \n",
       " \"1497268800129\\$<SF_MSG>X1SF2AE7125959</SF_MSG>\\r\\n\"        "
      ]
     },
     "execution_count": 1,
     "metadata": {},
     "output_type": "execute_result"
    }
   ],
   "source": [
    "# Reads in the data\n",
    "berths=open(\"/home/mathsys1/Documents/Trains/TrainData/Steve/TD_201706121200.txt\")\n",
    "data=readlines(berths)"
   ]
  },
  {
   "cell_type": "code",
   "execution_count": null,
   "metadata": {},
   "outputs": [],
   "source": [
    "for i=1:length(data)\n",
    "    if contains(data[i],\"STIN\")\n",
    "        print(data[i])\n",
    "    end\n",
    "end"
   ]
  },
  {
   "cell_type": "code",
   "execution_count": 4,
   "metadata": {
    "scrolled": true
   },
   "outputs": [
    {
     "data": {
      "text/plain": [
       "99263-element Array{String,1}:\n",
       " \"1497265223312\\$<CA_MSG>ESCA138513871G29115958</CA_MSG>\\r\\n\"\n",
       " \"1497265223406\\$<CA_MSG>BNCA042300359S60115959</CA_MSG>\\r\\n\"\n",
       " \"1497265223406\\$<CA_MSG>BECAE114E1121W12115959</CA_MSG>\\r\\n\"\n",
       " \"1497265223437\\$<CA_MSG>Q1CA041604081Y37115959</CA_MSG>\\r\\n\"\n",
       " \"1497265223468\\$<CA_MSG>ASCAI057NS572N38115959</CA_MSG>\\r\\n\"\n",
       " \"1497265223484\\$<CA_MSG>BNCAASAP00572N38115959</CA_MSG>\\r\\n\"\n",
       " \"1497265223499\\$<CA_MSG>EHCAEHFAEHFX1W12115959</CA_MSG>\\r\\n\"\n",
       " \"1497265223499\\$<CA_MSG>KXCA058205602T47115959</CA_MSG>\\r\\n\"\n",
       " \"1497265223546\\$<CA_MSG>D4CA024602341L46115959</CA_MSG>\\r\\n\"\n",
       " \"1497265223562\\$<CA_MSG>C2CA297629722J12115959</CA_MSG>\\r\\n\"\n",
       " \"1497265223578\\$<CA_MSG>ZECA138513871G29115959</CA_MSG>\\r\\n\"\n",
       " \"1497265223593\\$<CA_MSG>YKCA033303371S11115959</CA_MSG>\\r\\n\"\n",
       " \"1497265223593\\$<CA_MSG>G1CAN137N1331S31115959</CA_MSG>\\r\\n\"\n",
       " ⋮                                                           \n",
       " \"1497268799817\\$<CA_MSG>NXCA0206R2059M26125959</CA_MSG>\\r\\n\"\n",
       " \"1497268799848\\$<CA_MSG>R3CA361836161L76125959</CA_MSG>\\r\\n\"\n",
       " \"1497268799864\\$<CA_MSG>CACA027402541T33125959</CA_MSG>\\r\\n\"\n",
       " \"1497268799879\\$<CA_MSG>TBCA015501722A28125959</CA_MSG>\\r\\n\"\n",
       " \"1497268799895\\$<CA_MSG>PHCA006700691A85125959</CA_MSG>\\r\\n\"\n",
       " \"1497268799911\\$<CA_MSG>KXCA062506271T24125959</CA_MSG>\\r\\n\"\n",
       " \"1497268799926\\$<CA_MSG>D4CA027102851D26125959</CA_MSG>\\r\\n\"\n",
       " \"1497268799957\\$<CA_MSG>WICA035903612I75125959</CA_MSG>\\r\\n\"\n",
       " \"1497268800036\\$<CA_MSG>MECA014001382H41125959</CA_MSG>\\r\\n\"\n",
       " \"1497268800067\\$<CA_MSG>R2CA656565672G45125959</CA_MSG>\\r\\n\"\n",
       " \"1497268800082\\$<CA_MSG>Y3CA389739072H40125959</CA_MSG>\\r\\n\"\n",
       " \"1497268800114\\$<CA_MSG>EHCA015501571O84125959</CA_MSG>\\r\\n\""
      ]
     },
     "execution_count": 4,
     "metadata": {},
     "output_type": "execute_result"
    }
   ],
   "source": [
    "dataclean=Array(String,length(data))\n",
    "j=1\n",
    "q=0\n",
    "number=\"0123456789\"\n",
    "for i=1:length(data)     \n",
    "    if contains(data[i],\"<CA_MSG>\")# Removes all unnecessary signal movements\n",
    "        #for k=1:8\n",
    "        #    if contains(number,string(data[i][26+k]))\n",
    "        #        q=q+1\n",
    "        #    end\n",
    "        #end\n",
    "        if contains(data[i],\"****\")==false#&&q==8 # Removes the train headcodes that have reported in with an error\n",
    "            dataclean[j]=data[i]\n",
    "            j=j+1\n",
    "        end\n",
    "    end\n",
    "    q=0\n",
    "end\n",
    "dataclean=dataclean[1:j-1]"
   ]
  },
  {
   "cell_type": "code",
   "execution_count": null,
   "metadata": {},
   "outputs": [],
   "source": [
    "number=\"0123456789\"\n",
    "q=0\n",
    "for i=1:8\n",
    "    if contains(number,string(data[7][26+i]))\n",
    "        q=q+1\n",
    "    end\n",
    "end\n",
    "q"
   ]
  },
  {
   "cell_type": "code",
   "execution_count": 5,
   "metadata": {
    "scrolled": true
   },
   "outputs": [
    {
     "name": "stdout",
     "output_type": "stream",
     "text": [
      "2259\n"
     ]
    },
    {
     "data": {
      "text/plain": [
       "2258-element Array{String,1}:\n",
       " \"1G29\"\n",
       " \"9S60\"\n",
       " \"1W12\"\n",
       " \"1Y37\"\n",
       " \"2N38\"\n",
       " \"2T47\"\n",
       " \"1L46\"\n",
       " \"2J12\"\n",
       " \"1S11\"\n",
       " \"1S31\"\n",
       " \"2G55\"\n",
       " \"1L52\"\n",
       " \"2M52\"\n",
       " ⋮     \n",
       " \"5A88\"\n",
       " \"2T33\"\n",
       " \"1R92\"\n",
       " \"A245\"\n",
       " \"1B59\"\n",
       " \"2S64\"\n",
       " \"2W88\"\n",
       " \"2U42\"\n",
       " \"2Y35\"\n",
       " \"9M29\"\n",
       " \"7379\"\n",
       " \"5P39\""
      ]
     },
     "execution_count": 5,
     "metadata": {},
     "output_type": "execute_result"
    }
   ],
   "source": [
    "# Creates an array containing all the unique train headcodes found in the data\n",
    "trains=Array(String,length(dataclean)+1)\n",
    "for i=1:length(dataclean)+1\n",
    "    trains[i]=\"sausage\"\n",
    "end\n",
    "\n",
    "j=1                                    \n",
    "s=1                                     \n",
    "                                        \n",
    "for i=1:length(dataclean)\n",
    "    a=dataclean[i][35:38]\n",
    "    for k=1:j\n",
    "        if contains(trains[k],a)==true\n",
    "            s=s+1\n",
    "            break\n",
    "        end\n",
    "    end\n",
    "    if s==1\n",
    "        trains[j]=a\n",
    "        j=j+1\n",
    "    end\n",
    "    s=1\n",
    "end\n",
    "println(j)\n",
    "trains=trains[trains.!=\"sausage\"]"
   ]
  },
  {
   "cell_type": "code",
   "execution_count": 6,
   "metadata": {},
   "outputs": [],
   "source": [
    "# Gives each train found in the previous cell an array containing all the\n",
    "# berth movements for that train\n",
    "Trains=Array(Array,length(trains))\n",
    "for i=1:length(trains)\n",
    "    Trains[i]=Array(String,length(dataclean)+1)\n",
    "    for j=1:length(dataclean)+1\n",
    "        Trains[i][j]=\"sausage\"\n",
    "    end\n",
    "end\n",
    "s=1\n",
    "for i=1:length(trains)\n",
    "    for j=1:length(dataclean)\n",
    "        if contains(dataclean[j][35:38],trains[i])\n",
    "            Trains[i][s]=dataclean[j]\n",
    "            s=s+1\n",
    "        end\n",
    "    end\n",
    "    Trains[i]=Trains[i][Trains[i].!=\"sausage\"]\n",
    "end"
   ]
  },
  {
   "cell_type": "code",
   "execution_count": null,
   "metadata": {},
   "outputs": [],
   "source": [
    "Trains"
   ]
  },
  {
   "cell_type": "code",
   "execution_count": null,
   "metadata": {},
   "outputs": [],
   "source": [
    "writedlm(\"/home/mathsys1/Documents/Trains/Trains.csv\",Trains)"
   ]
  },
  {
   "cell_type": "code",
   "execution_count": null,
   "metadata": {
    "scrolled": true
   },
   "outputs": [],
   "source": [
    "# A code that subject to a set of imposed checks identifies a list of\n",
    "# nodes which I have called border nodes and creates a unique list\n",
    "# of these objects of interest\n",
    "Bordernodes=Array(String,length(dataclean),2)\n",
    "for i=1:length(dataclean)\n",
    "    Bordernodes[i,1]=\"sausage\"\n",
    "    Bordernodes[i,2]=\"sausage\"\n",
    "end\n",
    "p=1\n",
    "q=1\n",
    "for i=1:length(Trains)\n",
    "    for j=1:length(Trains[i])-1\n",
    "        if Trains[i][j][23:24]!=Trains[i][j+1][23:24]&&Trains[i][j][27:30]==Trains[i][j+1][27:30]&&Trains[i][j][31:34]==Trains[i][j+1][31:34]            \n",
    "            a=Trains[i][j][23:24]*Trains[i][j][31:34]*Trains[i][j+1][23:24]*Trains[i][j+1][27:30]\n",
    "            b=Trains[i][j+1][23:24]*Trains[i][j+1][27:30]*Trains[i][j][23:24]*Trains[i][j][31:34]\n",
    "            c=Trains[i][j][23:24]*Trains[i][j][27:30]*Trains[i][j+1][23:24]*Trains[i][j+1][31:34]\n",
    "            for k=1:p\n",
    "                if contains(Bordernodes[k,1],a)==true||contains(Bordernodes[k,1],b)==true\n",
    "                    q=2\n",
    "                    break\n",
    "                end\n",
    "            end\n",
    "            if q==1\n",
    "                Bordernodes[p,1]=c[1:6]\n",
    "                Bordernodes[p,2]=a[7:12]\n",
    "                p=p+1\n",
    "            end\n",
    "            q=1\n",
    "        end\n",
    "    end\n",
    "\n",
    "\n",
    "end\n",
    "\n",
    "Bordernodes=Bordernodes[1:p-1,:]"
   ]
  },
  {
   "cell_type": "code",
   "execution_count": null,
   "metadata": {
    "scrolled": true
   },
   "outputs": [],
   "source": [
    "# A code which augments the data and introduces the concept of two area\n",
    "# codes which can now model inter-area movements and at the same time\n",
    "# replaces the duality of the bordernodes with the other of the pair\n",
    "# in the actual dataset\n",
    "s=1\n",
    "t=1\n",
    "k=1\n",
    "w=1\n",
    "z=1\n",
    "for i=1:length(dataclean)\n",
    "    for j=1:Int64(length(Bordernodes)/2)\n",
    "        if contains(dataclean[i][23:24],Bordernodes[j,2][1:2])&&contains(dataclean[i][27:30],Bordernodes[j,2][3:6])&&t==1\n",
    "            dataclean[i]=dataclean[i][1:22]*Bordernodes[j,1][1:2]*dataclean[i][23:24]dataclean[i][27:55]\n",
    "            s=2\n",
    "            z=z+1\n",
    "        end\n",
    "        if contains(dataclean[i][23:24],Bordernodes[j,1][1:2])&&contains(dataclean[i][27:30],Bordernodes[j,1][3:6])&&s==1\n",
    "            dataclean[i]=\"sausage\"\n",
    "            t=2\n",
    "            break\n",
    "        end\n",
    "        #if contains(dataclean[i][23:24],Bordernodes[j,2][1:2])&&contains(dataclean[i][31:34],Bordernodes[j,2][3:6])#&&s==1\n",
    "        #    dataclean[i]=dataclean[i][1:24]*dataclean[i][23:24]*dataclean[i][27:55]\n",
    "        #    dataclean[i]=dataclean[i][1:22]*Bordernodes[j,1][1:2]*dataclean[i][25:55]\n",
    "        #    t=2\n",
    "        #    w=w+1\n",
    "        #end\n",
    "    end\n",
    "    \n",
    "    if s==1 && t==1\n",
    "        dataclean[i]=dataclean[i][1:24]*dataclean[i][23:24]*dataclean[i][27:55]\n",
    "        k=k+1\n",
    "    end\n",
    "    s=1\n",
    "    t=1\n",
    "end\n",
    "dataclean=dataclean[dataclean.!=\"sausage\"]"
   ]
  },
  {
   "cell_type": "code",
   "execution_count": null,
   "metadata": {},
   "outputs": [],
   "source": [
    "k"
   ]
  },
  {
   "cell_type": "code",
   "execution_count": null,
   "metadata": {},
   "outputs": [],
   "source": [
    "# A code that can check whether the above code is having an affect\n",
    "s=1\n",
    "for i=1:length(dataclean)\n",
    "    if dataclean[i][23:24]!=dataclean[i][25:26]\n",
    "        s=s+1\n",
    "        #println(i)\n",
    "    end\n",
    "end\n",
    "s"
   ]
  },
  {
   "cell_type": "code",
   "execution_count": null,
   "metadata": {},
   "outputs": [],
   "source": [
    "# Find the same set of data for each train but now utilises the new\n",
    "# data format so has the second area code\n",
    "Trains=Array(Array,length(trains))\n",
    "for i=1:length(trains)\n",
    "    Trains[i]=Array(String,length(dataclean)+1)\n",
    "    for j=1:length(dataclean)+1\n",
    "        Trains[i][j]=\"sausage\"\n",
    "    end\n",
    "end\n",
    "s=1\n",
    "for i=1:length(trains)\n",
    "    for j=1:length(dataclean)\n",
    "        if contains(dataclean[j][35:38],trains[i])\n",
    "            Trains[i][s]=dataclean[j]\n",
    "            s=s+1\n",
    "        end\n",
    "    end\n",
    "    Trains[i]=Trains[i][Trains[i].!=\"sausage\"]\n",
    "end"
   ]
  },
  {
   "cell_type": "code",
   "execution_count": null,
   "metadata": {},
   "outputs": [],
   "source": [
    "# Loops through all of the arrays created earlier for individual trains\n",
    "# and from that creates a list of unique inter-area connections\n",
    "#Interconnections=Array(String,length(dataclean)+1)\n",
    "#Interweights=ones(length(dataclean)+1)\n",
    "#for i=1:length(dataclean)+1\n",
    "#    Interconnections[i]=\"sausage\"\n",
    "#end\n",
    "#p=1\n",
    "#q=1\n",
    "for i=1:length(Trains)\n",
    "    for j=1:length(Trains[i])-1\n",
    "        if Trains[i][j][23:24]!=Trains[i][j+1][23:24]&&Trains[i][j][23:24]==Trains[i][j][25:26]\n",
    "            Trains[i][j]=Trains[i][j][1:24]*Trains[i][j+1][23:24]*Trains[i][j][27:55]\n",
    "            #a=Trains[i][j][23:24]*Trains[i][j][31:34]*Trains[i][j+1][23:24]*Trains[i][j+1][27:30]\n",
    "            #b=Trains[i][j+1][23:24]*Trains[i][j+1][27:30]*Trains[i][j][23:24]*Trains[i][j][31:34]\n",
    "            #for k=1:p\n",
    "            #    if contains(Interconnections[k],a)==true||contains(Interconnections[k],b)==true\n",
    "            #        q=2\n",
    "            #        Interweights[k]=Interweights[k]+1\n",
    "            #        break\n",
    "            #    end\n",
    "            #end\n",
    "            #if q==1\n",
    "            #    Interconnections[p]=a\n",
    "            #    p=p+1\n",
    "            #end\n",
    "            #q=1\n",
    "        end\n",
    "    end\n",
    "end"
   ]
  },
  {
   "cell_type": "code",
   "execution_count": null,
   "metadata": {},
   "outputs": [],
   "source": [
    "# Removes the dummy variables in the previously created array\n",
    "#Interconnections=Interconnections[Interconnections.!=\"sausage\"]"
   ]
  },
  {
   "cell_type": "code",
   "execution_count": null,
   "metadata": {},
   "outputs": [],
   "source": [
    "#Creates an array of dummy variables required for the next cell\n",
    "weights=Array(String,length(dataclean)+1)\n",
    "for n=1:length(dataclean)+1\n",
    "    weights[n]=\"sausage\"\n",
    "end"
   ]
  },
  {
   "cell_type": "code",
   "execution_count": null,
   "metadata": {},
   "outputs": [],
   "source": [
    "# Creates a list of unique intra-area connections \n",
    "z=1\n",
    "s=1\n",
    "for i=1:length(dataclean)\n",
    "    a=dataclean[i][23:24]\n",
    "    b=dataclean[i][25:26]\n",
    "    c=dataclean[i][27:30]\n",
    "    d=dataclean[i][31:34]\n",
    "    e=a*b*c*d\n",
    "    for k=1:z\n",
    "        if contains(weights[k],e)==true\n",
    "            s=2\n",
    "            break\n",
    "        end\n",
    "    end\n",
    "    if s==1\n",
    "        weights[z]=e\n",
    "        z=z+1\n",
    "    end\n",
    "    s=1\n",
    "end\n",
    "z\n",
    "weights"
   ]
  },
  {
   "cell_type": "code",
   "execution_count": null,
   "metadata": {
    "scrolled": true
   },
   "outputs": [],
   "source": [
    "# Separates the list of unique intra-area connections\n",
    "# and gives an array that can be read into a external file easier\n",
    "connections=Array(String,z-1,2)\n",
    "for i=1:z-1\n",
    "    a=weights[i][1:2]\n",
    "    b=weights[i][3:4]\n",
    "    c=weights[i][5:8]\n",
    "    d=weights[i][9:12]\n",
    "    connections[i,1]=a*c\n",
    "    connections[i,2]=b*d\n",
    "end\n",
    "connections"
   ]
  },
  {
   "cell_type": "code",
   "execution_count": null,
   "metadata": {
    "scrolled": true
   },
   "outputs": [],
   "source": [
    "s=0\n",
    "for i=1:Int64(length(connections)/2)\n",
    "    if connections[i,1][1:2]!=connections[i,2][1:2]\n",
    "        s=s+1\n",
    "        #println(connections[i,1],\" \",connections[i,2])\n",
    "    end\n",
    "end\n",
    "s\n",
    "writedlm(\"/home/mathsys1/Documents/Trains/Intra Connections.csv\",connections)"
   ]
  },
  {
   "cell_type": "code",
   "execution_count": null,
   "metadata": {},
   "outputs": [],
   "source": [
    "connections[1,2][1:2]"
   ]
  },
  {
   "cell_type": "code",
   "execution_count": null,
   "metadata": {
    "scrolled": true
   },
   "outputs": [],
   "source": [
    "# A short script that can return all of the unique connections from the\n",
    "# previous array but only contains connections for one specified area code\n",
    "areaconnect=Array(String,Int64(length(connections)/2),2)\n",
    "h=1\n",
    "for j=1:Int64(length(areaconnect)/2)\n",
    "    if contains(connections[j,1][1:2],\"UR\")==true\n",
    "        areaconnect[h,1]=connections[j,1]\n",
    "        areaconnect[h,2]=connections[j,2]\n",
    "        h=h+1\n",
    "    end\n",
    "end\n",
    "areaconnect=areaconnect[1:h-1,:]"
   ]
  },
  {
   "cell_type": "code",
   "execution_count": null,
   "metadata": {},
   "outputs": [],
   "source": [
    "# Writes the previous array to a file in the user area\n",
    "writedlm(\"/home/mathsys1/Documents/Trains/area.csv\",areaconnect)"
   ]
  },
  {
   "cell_type": "code",
   "execution_count": null,
   "metadata": {},
   "outputs": [],
   "source": [
    "function uniquenodes(dataclean,nodes)   #requires two arrays the first which\n",
    "j=1                                     #is the data and the second which\n",
    "s=1                                     #is an array of dummy values of \n",
    "t=1                                     #size one greater than the first\n",
    "for i=1:length(dataclean)\n",
    "    a=dataclean[i][23:24]\n",
    "    b=dataclean[i][27:30]\n",
    "    c=a*b\n",
    "    for k=1:j\n",
    "        if contains(nodes[k],c)==true\n",
    "            s=2\n",
    "            break\n",
    "        end\n",
    "    end\n",
    "    if s==1\n",
    "        nodes[j]=c\n",
    "        j=j+1\n",
    "    end\n",
    "    s=1\n",
    "end\n",
    "for i=1:length(dataclean)\n",
    "    a=dataclean[i][25:26]\n",
    "    b=dataclean[i][31:34]\n",
    "    c=a*b\n",
    "    for k=1:j\n",
    "        if contains(nodes[k],c)==true\n",
    "            t=2\n",
    "            break\n",
    "        end\n",
    "    end\n",
    "    if t==1\n",
    "        nodes[j]=c\n",
    "        j=j+1\n",
    "    end\n",
    "    t=1\n",
    "end\n",
    "    println(j)\n",
    "    nodes=nodes[1:j-1]\n",
    "end"
   ]
  },
  {
   "cell_type": "code",
   "execution_count": null,
   "metadata": {},
   "outputs": [],
   "source": [
    "# Creates an array of dummy variables required \n",
    "# to run the above function\n",
    "nodes=Array(String,length(dataclean)+1)\n",
    "for n=1:length(dataclean)+1\n",
    "    nodes[n]=\"sausage\"\n",
    "end\n",
    "uniquenodes(dataclean,nodes)j"
   ]
  },
  {
   "cell_type": "code",
   "execution_count": null,
   "metadata": {},
   "outputs": [],
   "source": [
    "# Removes all of the border nodes from the array of unique nodes\n",
    "for l=1:Int64(length(Bordernodes)/2)\n",
    "    for m=1:length(nodes)\n",
    "        if contains(nodes[m],Bordernodes[l,2])\n",
    "            nodes[m]=\"sausage\"\n",
    "        end\n",
    "    end\n",
    "end\n",
    "#nodes=nodes[nodes.!=\"sausage\"]"
   ]
  },
  {
   "cell_type": "code",
   "execution_count": null,
   "metadata": {
    "scrolled": true
   },
   "outputs": [],
   "source": [
    "nodes=nodes[nodes.!=\"sausage\"]"
   ]
  },
  {
   "cell_type": "code",
   "execution_count": null,
   "metadata": {},
   "outputs": [],
   "source": [
    "# Gives each unique node an array of berth movements containing the node\n",
    "#Nodes=Array(Array,length(nodes))\n",
    "#for i=1:length(nodes)\n",
    "#    Nodes[i]=Array(String,400)\n",
    "#end\n",
    "#s=1\n",
    "#for i=1:length(nodes)\n",
    "#    for j=1:length(dataclean)\n",
    "#        if contains(dataclean[j][23:24]*dataclean[j][27:30],nodes[i])||contains(dataclean[j][25:26]*dataclean[j][31:34],nodes[i])\n",
    "#            Nodes[i][s]=dataclean[j]\n",
    "#            s=s+1\n",
    "#        end\n",
    "#    end\n",
    "#    Nodes[i]=Nodes[i][1:s-1]\n",
    "#    s=1\n",
    "#end"
   ]
  },
  {
   "cell_type": "code",
   "execution_count": null,
   "metadata": {},
   "outputs": [],
   "source": [
    "# A code that can create a list of nodes of interest based on\n",
    "# how many unique connections the node has\n"
   ]
  },
  {
   "cell_type": "code",
   "execution_count": null,
   "metadata": {},
   "outputs": [],
   "source": [
    "# Remove all of the interconnection movements that are created as a \n",
    "# result of the border nodes\n",
    "for l=1:Int64(length(Bordernodes)/2)\n",
    "    for m=1:length(Interconnections)\n",
    "        if contains(Interconnections[m],Bordernodes[l,2])\n",
    "            Interconnections[m]=\"sausage\"\n",
    "        end\n",
    "    end\n",
    "end\n",
    "Interconnections"
   ]
  },
  {
   "cell_type": "code",
   "execution_count": null,
   "metadata": {},
   "outputs": [],
   "source": [
    "# Removes the interconnection movements that are only observed once\n",
    "d=1\n",
    "Interconnect=Array(String,length(Interconnections))\n",
    "for i=1:length(Interconnect)\n",
    "    Interconnect[i]=\"sausage\"\n",
    "end\n",
    "for i=1:length(Interconnections)\n",
    "    if Interweights[i]!=1\n",
    "        Interconnect[d]=Interconnections[i]\n",
    "        d=d+1\n",
    "    end\n",
    "end\n",
    "Interconnect=Interconnect[Interconnect.!=\"sausage\"]"
   ]
  },
  {
   "cell_type": "code",
   "execution_count": null,
   "metadata": {},
   "outputs": [],
   "source": [
    "# Structures the inter-area movements ina way that it can be read easier\n",
    "Interconnects=Array(String,length(Interconnect),2)\n",
    "for i=1:length(Interconnect)\n",
    "    Interconnects[i,1]=Interconnect[i][1:6]\n",
    "    Interconnects[i,2]=Interconnect[i][7:12]\n",
    "end"
   ]
  },
  {
   "cell_type": "code",
   "execution_count": null,
   "metadata": {},
   "outputs": [],
   "source": [
    "# Writes the inter-area movements to a file in the user space\n",
    "#writedlm(\"/home/mathsys1/Documents/Trains/Interconnections.csv\",Interconnects)"
   ]
  },
  {
   "cell_type": "code",
   "execution_count": 13,
   "metadata": {},
   "outputs": [
    {
     "data": {
      "text/plain": [
       "102-element Array{String,1}:\n",
       " \"1497265223312\\$<CA_MSG>ESCA138513871G29115958</CA_MSG>\\r\\n\"\n",
       " \"1497265223578\\$<CA_MSG>ZECA138513871G29115959</CA_MSG>\\r\\n\"\n",
       " \"1497265236922\\$<CA_MSG>ESCA138701011G29120015</CA_MSG>\\r\\n\"\n",
       " \"1497265237047\\$<CA_MSG>ZECA138701011G29120015</CA_MSG>\\r\\n\"\n",
       " \"1497265242672\\$<CA_MSG>D1CA168517111G29120021</CA_MSG>\\r\\n\"\n",
       " \"1497265266985\\$<CA_MSG>ESCA010101031G29120052</CA_MSG>\\r\\n\"\n",
       " \"1497265267235\\$<CA_MSG>ZECA010101031G29120052</CA_MSG>\\r\\n\"\n",
       " \"1497265288126\\$<CA_MSG>ESCA010301051G29120121</CA_MSG>\\r\\n\"\n",
       " \"1497265288361\\$<CA_MSG>ZECA010301051G29120121</CA_MSG>\\r\\n\"\n",
       " \"1497265319080\\$<CA_MSG>ESCA0105R1081G29120158</CA_MSG>\\r\\n\"\n",
       " \"1497265319315\\$<CA_MSG>ZECA0105R1081G29120158</CA_MSG>\\r\\n\"\n",
       " \"1497265415817\\$<CA_MSG>D1CA171117331G29120334</CA_MSG>\\r\\n\"\n",
       " \"1497265471131\\$<CA_MSG>D1CA173317431G29120429</CA_MSG>\\r\\n\"\n",
       " ⋮                                                           \n",
       " \"1497267401356\\$<CA_MSG>A3CAN010N0111G29123640</CA_MSG>\\r\\n\"\n",
       " \"1497267482484\\$<CA_MSG>A3CAN011N0121G29123801</CA_MSG>\\r\\n\"\n",
       " \"1497267542470\\$<CA_MSG>A3CAN012RY271G29123901</CA_MSG>\\r\\n\"\n",
       " \"1497267841915\\$<CA_MSG>D7CA120913151G29124400</CA_MSG>\\r\\n\"\n",
       " \"1497267949481\\$<CA_MSG>D7CA131513211G29124543</CA_MSG>\\r\\n\"\n",
       " \"1497268130939\\$<CA_MSG>D7CA132113271G29124850</CA_MSG>\\r\\n\"\n",
       " \"1497268294100\\$<CA_MSG>D7CA132713331G29125132</CA_MSG>\\r\\n\"\n",
       " \"1497268459854\\$<CA_MSG>A3CARY27RY251G29125405</CA_MSG>\\r\\n\"\n",
       " \"1497268461917\\$<CA_MSG>D7CA133313371G29125409</CA_MSG>\\r\\n\"\n",
       " \"1497268613109\\$<CA_MSG>A3CARY25COUT1G29125651</CA_MSG>\\r\\n\"\n",
       " \"1497268758800\\$<CA_MSG>D7CA1337DK941G29125918</CA_MSG>\\r\\n\"\n",
       " \"1497268759441\\$<CA_MSG>GLCA1337DK941G29125918</CA_MSG>\\r\\n\""
      ]
     },
     "execution_count": 13,
     "metadata": {},
     "output_type": "execute_result"
    }
   ],
   "source": [
    "# Creates an array of berth movements that correspond to only one headcode\n",
    "traintracker=Array(String,length(dataclean))\n",
    "for i=1:length(dataclean)\n",
    "    traintracker[i]=\"sausage\"\n",
    "end\n",
    "k=1\n",
    "for l=1:length(trains)\n",
    "    if trains[l]==\"1G29\"\n",
    "        for m=1:length(Trains[l])\n",
    "            traintracker[k]=Trains[l][m]\n",
    "            k=k+1\n",
    "        end\n",
    "    end\n",
    "end\n",
    "traintracker=traintracker[1:k-1]\n",
    "traintracker"
   ]
  },
  {
   "cell_type": "code",
   "execution_count": 14,
   "metadata": {
    "scrolled": false
   },
   "outputs": [
    {
     "name": "stdout",
     "output_type": "stream",
     "text": [
      "       Area1 Area2 From    To     Time\n",
      "String[\"ES\",\"CA\",\"1385\",\"1387\",\"115958\"]\n",
      "String[\"ZE\",\"CA\",\"1385\",\"1387\",\"115959\"]\n",
      "String[\"ES\",\"CA\",\"1387\",\"0101\",\"120015\"]\n",
      "String[\"ZE\",\"CA\",\"1387\",\"0101\",\"120015\"]\n",
      "String[\"D1\",\"CA\",\"1685\",\"1711\",\"120021\"]\n",
      "String[\"ES\",\"CA\",\"0101\",\"0103\",\"120052\"]\n",
      "String[\"ZE\",\"CA\",\"0101\",\"0103\",\"120052\"]\n",
      "String[\"ES\",\"CA\",\"0103\",\"0105\",\"120121\"]\n",
      "String[\"ZE\",\"CA\",\"0103\",\"0105\",\"120121\"]\n",
      "String[\"ES\",\"CA\",\"0105\",\"R108\",\"120158\"]\n",
      "String[\"ZE\",\"CA\",\"0105\",\"R108\",\"120158\"]\n",
      "String[\"D1\",\"CA\",\"1711\",\"1733\",\"120334\"]\n",
      "String[\"D1\",\"CA\",\"1733\",\"1743\",\"120429\"]\n",
      "String[\"D1\",\"CA\",\"1743\",\"1757\",\"120453\"]\n",
      "String[\"D1\",\"CA\",\"1757\",\"1767\",\"120527\"]\n",
      "String[\"D1\",\"CA\",\"1767\",\"1775\",\"120554\"]\n",
      "String[\"ES\",\"CA\",\"R108\",\"0108\",\"120615\"]\n",
      "String[\"ZE\",\"CA\",\"R108\",\"0108\",\"120616\"]\n",
      "String[\"D1\",\"CA\",\"1775\",\"1785\",\"120631\"]\n",
      "String[\"D1\",\"CA\",\"1785\",\"0793\",\"120724\"]\n",
      "String[\"D1\",\"CA\",\"0793\",\"0805\",\"120823\"]\n",
      "String[\"D1\",\"CA\",\"0805\",\"0813\",\"120910\"]\n",
      "String[\"ES\",\"CA\",\"0108\",\"0106\",\"120925\"]\n",
      "String[\"ZE\",\"CA\",\"0108\",\"0106\",\"120925\"]\n",
      "String[\"D1\",\"CA\",\"0813\",\"0821\",\"120956\"]\n",
      "String[\"ES\",\"CA\",\"0106\",\"0104\",\"121029\"]\n",
      "String[\"ZE\",\"CA\",\"0106\",\"0104\",\"121030\"]\n",
      "String[\"D1\",\"CA\",\"0821\",\"0829\",\"121033\"]\n",
      "String[\"ES\",\"CA\",\"0104\",\"0102\",\"121055\"]\n",
      "String[\"ZE\",\"CA\",\"0104\",\"0102\",\"121056\"]\n",
      "String[\"D1\",\"CA\",\"0829\",\"0837\",\"121111\"]\n",
      "String[\"ES\",\"CA\",\"0102\",\"1382\",\"121125\"]\n",
      "String[\"ZE\",\"CA\",\"0102\",\"1382\",\"121125\"]\n",
      "String[\"ES\",\"CA\",\"1382\",\"1378\",\"121144\"]\n",
      "String[\"ZE\",\"CA\",\"1382\",\"1378\",\"121145\"]\n",
      "String[\"ES\",\"CA\",\"1378\",\"1376\",\"121218\"]\n",
      "String[\"ZE\",\"CA\",\"1378\",\"1376\",\"121218\"]\n",
      "String[\"D5\",\"CA\",\"0845\",\"0901\",\"121225\"]\n",
      "String[\"ES\",\"CA\",\"1376\",\"1415\",\"121251\"]\n",
      "String[\"ZE\",\"CA\",\"1376\",\"1415\",\"121252\"]\n",
      "String[\"D5\",\"CA\",\"0901\",\"0905\",\"121258\"]\n",
      "String[\"D5\",\"CA\",\"0905\",\"0911\",\"121322\"]\n",
      "String[\"D5\",\"CA\",\"0911\",\"0931\",\"121400\"]\n",
      "String[\"ES\",\"CA\",\"1415\",\"1417\",\"121458\"]\n",
      "String[\"ZE\",\"CA\",\"1415\",\"1417\",\"121458\"]\n",
      "String[\"ES\",\"CA\",\"1417\",\"1423\",\"121553\"]\n",
      "String[\"ZE\",\"CA\",\"1417\",\"1423\",\"121553\"]\n",
      "String[\"ES\",\"CA\",\"1423\",\"1427\",\"121649\"]\n",
      "String[\"ZE\",\"CA\",\"1423\",\"1427\",\"121650\"]\n",
      "String[\"ES\",\"CA\",\"1427\",\"1429\",\"121749\"]\n",
      "String[\"ZE\",\"CA\",\"1427\",\"1429\",\"121749\"]\n",
      "String[\"ES\",\"CA\",\"1429\",\"1431\",\"121842\"]\n",
      "String[\"ZE\",\"CA\",\"1429\",\"1431\",\"121842\"]\n",
      "String[\"D5\",\"CA\",\"0931\",\"0941\",\"121853\"]\n",
      "String[\"D5\",\"CA\",\"0941\",\"0947\",\"121931\"]\n",
      "String[\"ES\",\"CA\",\"1431\",\"1433\",\"121957\"]\n",
      "String[\"ZE\",\"CA\",\"1431\",\"1433\",\"121957\"]\n",
      "String[\"D5\",\"CA\",\"0947\",\"0963\",\"122017\"]\n",
      "String[\"ES\",\"CA\",\"1433\",\"1437\",\"122100\"]\n",
      "String[\"ZE\",\"CA\",\"1433\",\"1437\",\"122100\"]\n",
      "String[\"D5\",\"CA\",\"0963\",\"0973\",\"122118\"]\n",
      "String[\"D5\",\"CA\",\"0973\",\"0977\",\"122207\"]\n",
      "String[\"D5\",\"CA\",\"0977\",\"0981\",\"122251\"]\n",
      "String[\"D5\",\"CA\",\"0981\",\"0989\",\"122328\"]\n",
      "String[\"D5\",\"CA\",\"0989\",\"0993\",\"122400\"]\n",
      "String[\"D5\",\"CA\",\"0993\",\"0999\",\"122428\"]\n",
      "String[\"ES\",\"CA\",\"1437\",\"1439\",\"122433\"]\n",
      "String[\"ZE\",\"CA\",\"1437\",\"1439\",\"122433\"]\n",
      "String[\"D5\",\"CA\",\"0999\",\"1003\",\"122459\"]\n",
      "String[\"D5\",\"CA\",\"1003\",\"1007\",\"122523\"]\n",
      "String[\"D5\",\"CA\",\"1007\",\"1011\",\"122543\"]\n",
      "String[\"ES\",\"CA\",\"1439\",\"BJ41\",\"122550\"]\n",
      "String[\"ZE\",\"CA\",\"1439\",\"BJ41\",\"122550\"]\n",
      "String[\"D5\",\"CA\",\"1011\",\"1105\",\"122619\"]\n",
      "String[\"A3\",\"CA\",\"P041\",\"P010\",\"122632\"]\n",
      "String[\"D7\",\"CA\",\"1105\",\"1115\",\"122633\"]\n",
      "String[\"D7\",\"CA\",\"1115\",\"1121\",\"122716\"]\n",
      "String[\"A3\",\"CA\",\"P010\",\"N101\",\"122737\"]\n",
      "String[\"D7\",\"CA\",\"1121\",\"1123\",\"122755\"]\n",
      "String[\"D7\",\"CA\",\"1123\",\"1125\",\"122822\"]\n",
      "String[\"D7\",\"CA\",\"1125\",\"1129\",\"122853\"]\n",
      "String[\"D7\",\"CA\",\"1129\",\"1141\",\"122926\"]\n",
      "String[\"D7\",\"CA\",\"1141\",\"1143\",\"122952\"]\n",
      "String[\"D7\",\"CA\",\"1143\",\"1149\",\"123010\"]\n",
      "String[\"D7\",\"CA\",\"1149\",\"1155\",\"123041\"]\n",
      "String[\"D7\",\"CA\",\"1155\",\"1161\",\"123143\"]\n",
      "String[\"D7\",\"CA\",\"1161\",\"1175\",\"123233\"]\n",
      "String[\"A3\",\"CA\",\"N101\",\"N004\",\"123234\"]\n",
      "String[\"A3\",\"CA\",\"N004\",\"N010\",\"123329\"]\n",
      "String[\"D7\",\"CA\",\"1175\",\"1209\",\"123623\"]\n",
      "String[\"A3\",\"CA\",\"N010\",\"N011\",\"123640\"]\n",
      "String[\"A3\",\"CA\",\"N011\",\"N012\",\"123801\"]\n",
      "String[\"A3\",\"CA\",\"N012\",\"RY27\",\"123901\"]\n",
      "String[\"D7\",\"CA\",\"1209\",\"1315\",\"124400\"]\n",
      "String[\"D7\",\"CA\",\"1315\",\"1321\",\"124543\"]\n",
      "String[\"D7\",\"CA\",\"1321\",\"1327\",\"124850\"]\n",
      "String[\"D7\",\"CA\",\"1327\",\"1333\",\"125132\"]\n",
      "String[\"A3\",\"CA\",\"RY27\",\"RY25\",\"125405\"]\n",
      "String[\"D7\",\"CA\",\"1333\",\"1337\",\"125409\"]\n",
      "String[\"A3\",\"CA\",\"RY25\",\"COUT\",\"125651\"]\n",
      "String[\"D7\",\"CA\",\"1337\",\"DK94\",\"125918\"]\n",
      "String[\"GL\",\"CA\",\"1337\",\"DK94\",\"125918\"]\n"
     ]
    }
   ],
   "source": [
    "# Display the previous array in a easier to understand format\n",
    "berthmove=Array(String,length(traintracker),5)\n",
    "println(\"       Area1 Area2 From    To     Time\")\n",
    "for i=1:length(traintracker)\n",
    "    berthmove[i,1]=traintracker[i][23:24]\n",
    "    berthmove[i,2]=traintracker[i][25:26]\n",
    "    berthmove[i,3]=traintracker[i][27:30]\n",
    "    berthmove[i,4]=traintracker[i][31:34]\n",
    "    berthmove[i,5]=traintracker[i][39:44]\n",
    "    println(berthmove[i,:])\n",
    "end"
   ]
  },
  {
   "cell_type": "code",
   "execution_count": null,
   "metadata": {
    "scrolled": true
   },
   "outputs": [],
   "source": [
    "Trainpath=Array(String,length(traintracker),2)\n",
    "for i=1:length(traintracker)\n",
    "    Trainpath[i,1]=berthmove[i,1]*berthmove[i,3]\n",
    "    Trainpath[i,2]=berthmove[i,2]*berthmove[i,4]\n",
    "end\n",
    "writedlm(\"/home/mathsys1/Documents/Trains/1Train.csv\",Trainpath)"
   ]
  },
  {
   "cell_type": "code",
   "execution_count": null,
   "metadata": {
    "scrolled": true
   },
   "outputs": [],
   "source": [
    "# Short code that returns a alphabetically sorted list of areas in the\n",
    "# dataset\n",
    "Uniqueareas=Array(String,length(dataclean))\n",
    "for b=1:length(dataclean)\n",
    "    Uniqueareas[b]=\"sausage\"\n",
    "end\n",
    "j=1\n",
    "for i=1:length(dataclean)\n",
    "    a=dataclean[i][23:24]\n",
    "    for k=1:j\n",
    "        if contains(Uniqueareas[k],a)==true\n",
    "            s=2\n",
    "            break\n",
    "        end\n",
    "    end\n",
    "    if s==1\n",
    "        Uniqueareas[j]=a\n",
    "        j=j+1\n",
    "    end\n",
    "    s=1\n",
    "end\n",
    "Uniqueareas=Uniqueareas[1:j-1]\n",
    "Uniqueareas=sort(Uniqueareas)"
   ]
  },
  {
   "cell_type": "code",
   "execution_count": null,
   "metadata": {
    "scrolled": true
   },
   "outputs": [],
   "source": [
    "# A code that from the list created earlier finds the first berth\n",
    "# in an area and creates an array of these berths\n",
    "LatLong=Array(String,length(Uniqueareas))\n",
    "k=1\n",
    "for i=1:length(Uniqueareas)\n",
    "    for j=1:length(dataclean)\n",
    "        if dataclean[j][23:24]==Uniqueareas[i]\n",
    "            LatLong[k]=dataclean[j][23:24]*dataclean[j][27:30]\n",
    "            k=k+1\n",
    "            break\n",
    "        end\n",
    "    end\n",
    "end\n",
    "LatLong"
   ]
  },
  {
   "cell_type": "code",
   "execution_count": null,
   "metadata": {},
   "outputs": [],
   "source": [
    "writedlm(\"/home/mathsys1/Documents/Trains/LatLong.csv\",LatLong)"
   ]
  }
 ],
 "metadata": {
  "kernelspec": {
   "display_name": "Julia 0.5.2",
   "language": "julia",
   "name": "julia-0.5"
  },
  "language_info": {
   "file_extension": ".jl",
   "mimetype": "application/julia",
   "name": "julia",
   "version": "0.5.2"
  }
 },
 "nbformat": 4,
 "nbformat_minor": 2
}
